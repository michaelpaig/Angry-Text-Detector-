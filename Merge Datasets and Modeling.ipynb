{
 "cells": [
  {
   "cell_type": "markdown",
   "metadata": {},
   "source": [
    "### Import Packages"
   ]
  },
  {
   "cell_type": "code",
   "execution_count": 554,
   "metadata": {},
   "outputs": [],
   "source": [
    "import numpy as np \n",
    "import pandas as pd\n",
    "import re\n",
    "import string\n",
    "from sklearn.model_selection import train_test_split\n",
    "from sklearn.naive_bayes import MultinomialNB\n",
    "from sklearn.feature_extraction.text import TfidfVectorizer\n",
    "from sklearn.metrics import accuracy_score\n",
    "\n",
    "from tensorflow.python.keras.utils import np_utils\n",
    "from tensorflow.python.keras.utils.vis_utils import model_to_dot\n",
    "from tensorflow.keras.preprocessing.text import Tokenizer\n",
    "from tensorflow.keras.preprocessing.sequence import pad_sequences\n",
    "\n",
    "from tensorflow.keras.models import Model, Sequential\n",
    "from tensorflow.keras.layers import Dense, Activation, Dropout\n",
    "from tensorflow.keras.layers import Input, Embedding, Bidirectional, LSTM\n",
    "from tensorflow.keras.callbacks import EarlyStopping\n",
    "from tensorflow import keras\n",
    "import pickle\n",
    "from sklearn.metrics import f1_score\n",
    "from sklearn.utils import class_weight\n"
   ]
  },
  {
   "cell_type": "markdown",
   "metadata": {},
   "source": [
    "### Merge and Clean Labeled Datasets, Reddit posts, and Tweets"
   ]
  },
  {
   "cell_type": "code",
   "execution_count": 477,
   "metadata": {},
   "outputs": [],
   "source": [
    "df5 = pd.read_csv('No Cause.txt', sep = '>', names=['emotion', 'tweet', 'nan'])"
   ]
  },
  {
   "cell_type": "code",
   "execution_count": 479,
   "metadata": {},
   "outputs": [
    {
     "data": {
      "text/html": [
       "<div>\n",
       "<style scoped>\n",
       "    .dataframe tbody tr th:only-of-type {\n",
       "        vertical-align: middle;\n",
       "    }\n",
       "\n",
       "    .dataframe tbody tr th {\n",
       "        vertical-align: top;\n",
       "    }\n",
       "\n",
       "    .dataframe thead th {\n",
       "        text-align: right;\n",
       "    }\n",
       "</style>\n",
       "<table border=\"1\" class=\"dataframe\">\n",
       "  <thead>\n",
       "    <tr style=\"text-align: right;\">\n",
       "      <th></th>\n",
       "      <th>emotion</th>\n",
       "      <th>tweet</th>\n",
       "      <th>nan</th>\n",
       "    </tr>\n",
       "  </thead>\n",
       "  <tbody>\n",
       "    <tr>\n",
       "      <th>0</th>\n",
       "      <td>&lt;happy</td>\n",
       "      <td>This did the trick : the boys now have a more ...</td>\n",
       "      <td>NaN</td>\n",
       "    </tr>\n",
       "    <tr>\n",
       "      <th>1</th>\n",
       "      <td>&lt;happy</td>\n",
       "      <td>When Anna left Inspector Aziz , she was much h...</td>\n",
       "      <td>NaN</td>\n",
       "    </tr>\n",
       "    <tr>\n",
       "      <th>2</th>\n",
       "      <td>&lt;happy</td>\n",
       "      <td>And though , as Lachlan had planned , they had...</td>\n",
       "      <td>NaN</td>\n",
       "    </tr>\n",
       "    <tr>\n",
       "      <th>3</th>\n",
       "      <td>&lt;happy</td>\n",
       "      <td>Honestly , I 'm really happy for you ! &lt;\\happy</td>\n",
       "      <td>NaN</td>\n",
       "    </tr>\n",
       "    <tr>\n",
       "      <th>4</th>\n",
       "      <td>&lt;happy</td>\n",
       "      <td>Lesley was totally happy about it . &lt;\\happy</td>\n",
       "      <td>NaN</td>\n",
       "    </tr>\n",
       "    <tr>\n",
       "      <th>...</th>\n",
       "      <td>...</td>\n",
       "      <td>...</td>\n",
       "      <td>...</td>\n",
       "    </tr>\n",
       "    <tr>\n",
       "      <th>1572</th>\n",
       "      <td>&lt;shame</td>\n",
       "      <td>He gets real humiliated and has to leave . &lt;\\s...</td>\n",
       "      <td>NaN</td>\n",
       "    </tr>\n",
       "    <tr>\n",
       "      <th>1573</th>\n",
       "      <td>&lt;shame</td>\n",
       "      <td>They aimed for higher status jobs and felt hum...</td>\n",
       "      <td>NaN</td>\n",
       "    </tr>\n",
       "    <tr>\n",
       "      <th>1574</th>\n",
       "      <td>&lt;shame</td>\n",
       "      <td>He cursed his lack of self-control ; he knew t...</td>\n",
       "      <td>NaN</td>\n",
       "    </tr>\n",
       "    <tr>\n",
       "      <th>1575</th>\n",
       "      <td>&lt;shame</td>\n",
       "      <td>Sometimes I've thought I 'll never forget wha...</td>\n",
       "      <td>NaN</td>\n",
       "    </tr>\n",
       "    <tr>\n",
       "      <th>1576</th>\n",
       "      <td>&lt;shame</td>\n",
       "      <td>GRAHAM TAYLOR will defy the fury of a humiliat...</td>\n",
       "      <td>NaN</td>\n",
       "    </tr>\n",
       "  </tbody>\n",
       "</table>\n",
       "<p>1577 rows × 3 columns</p>\n",
       "</div>"
      ],
      "text/plain": [
       "     emotion                                              tweet  nan\n",
       "0     <happy  This did the trick : the boys now have a more ...  NaN\n",
       "1     <happy  When Anna left Inspector Aziz , she was much h...  NaN\n",
       "2     <happy  And though , as Lachlan had planned , they had...  NaN\n",
       "3     <happy     Honestly , I 'm really happy for you ! <\\happy  NaN\n",
       "4     <happy        Lesley was totally happy about it . <\\happy  NaN\n",
       "...      ...                                                ...  ...\n",
       "1572  <shame  He gets real humiliated and has to leave . <\\s...  NaN\n",
       "1573  <shame  They aimed for higher status jobs and felt hum...  NaN\n",
       "1574  <shame  He cursed his lack of self-control ; he knew t...  NaN\n",
       "1575  <shame   Sometimes I've thought I 'll never forget wha...  NaN\n",
       "1576  <shame  GRAHAM TAYLOR will defy the fury of a humiliat...  NaN\n",
       "\n",
       "[1577 rows x 3 columns]"
      ]
     },
     "execution_count": 479,
     "metadata": {},
     "output_type": "execute_result"
    }
   ],
   "source": [
    "df5"
   ]
  },
  {
   "cell_type": "code",
   "execution_count": 480,
   "metadata": {},
   "outputs": [],
   "source": [
    "df5.emotion = df5.emotion.str.strip('<')"
   ]
  },
  {
   "cell_type": "code",
   "execution_count": 481,
   "metadata": {},
   "outputs": [],
   "source": [
    "df5['tweet'] = df5['tweet'].apply(lambda x: x.split('<')[0])"
   ]
  },
  {
   "cell_type": "code",
   "execution_count": 482,
   "metadata": {},
   "outputs": [],
   "source": [
    "df5.drop('nan', axis=1, inplace=True)"
   ]
  },
  {
   "cell_type": "code",
   "execution_count": 483,
   "metadata": {},
   "outputs": [],
   "source": [
    "df5['emotion'] = df5['emotion'].apply(lambda x: 1 if x=='anger' else 0)"
   ]
  },
  {
   "cell_type": "code",
   "execution_count": 484,
   "metadata": {},
   "outputs": [],
   "source": [
    "df5 = df5[['tweet', 'emotion']]"
   ]
  },
  {
   "cell_type": "code",
   "execution_count": 508,
   "metadata": {},
   "outputs": [
    {
     "data": {
      "text/plain": [
       "'I do n\\'t care if you \\'re offended , that \\'s the truth . \" '"
      ]
     },
     "execution_count": 508,
     "metadata": {},
     "output_type": "execute_result"
    }
   ],
   "source": [
    "df5[df5.emotion == 1].tweet.iloc[102]"
   ]
  },
  {
   "cell_type": "code",
   "execution_count": null,
   "metadata": {},
   "outputs": [],
   "source": [
    "df5.emotion.value_counts()"
   ]
  },
  {
   "cell_type": "code",
   "execution_count": null,
   "metadata": {},
   "outputs": [],
   "source": [
    "df6 = pd.concat([df2, df5])"
   ]
  },
  {
   "cell_type": "code",
   "execution_count": null,
   "metadata": {},
   "outputs": [],
   "source": [
    "df6.reset_index(inplace=True)"
   ]
  },
  {
   "cell_type": "code",
   "execution_count": null,
   "metadata": {},
   "outputs": [],
   "source": [
    "df6.drop('index', axis=1, inplace=True)"
   ]
  },
  {
   "cell_type": "markdown",
   "metadata": {},
   "source": [
    "#### Merge with angry posts from Reddit "
   ]
  },
  {
   "cell_type": "code",
   "execution_count": null,
   "metadata": {},
   "outputs": [],
   "source": [
    "df6.to_pickle('3datasets.pkl')"
   ]
  },
  {
   "cell_type": "code",
   "execution_count": null,
   "metadata": {},
   "outputs": [],
   "source": [
    "df6 = pd.read_pickle('3datasets.pkl')"
   ]
  },
  {
   "cell_type": "code",
   "execution_count": null,
   "metadata": {},
   "outputs": [],
   "source": [
    "df45 = pd.read_pickle('angry_tweet.pkl')"
   ]
  },
  {
   "cell_type": "code",
   "execution_count": 111,
   "metadata": {},
   "outputs": [],
   "source": [
    "remove = lambda x: re.sub('\\n', '', x)\n",
    "dash = lambda x: re.sub('[/\\\\\\:?\\\"]', '', x)\n",
    "punc_lower = lambda x: re.sub('[%s]' % re.escape(string.punctuation), ' ', x.lower())\n"
   ]
  },
  {
   "cell_type": "code",
   "execution_count": null,
   "metadata": {},
   "outputs": [],
   "source": [
    "df7 = pd.concat([df6, df50])"
   ]
  },
  {
   "cell_type": "code",
   "execution_count": null,
   "metadata": {},
   "outputs": [],
   "source": [
    "df7"
   ]
  },
  {
   "cell_type": "code",
   "execution_count": null,
   "metadata": {},
   "outputs": [],
   "source": [
    "df7.reset_index(inplace=True, drop=True)"
   ]
  },
  {
   "cell_type": "code",
   "execution_count": null,
   "metadata": {},
   "outputs": [],
   "source": [
    "df7.to_pickle('dataset.pkl')"
   ]
  },
  {
   "cell_type": "markdown",
   "metadata": {},
   "source": [
    "#### Clean and merge additional posts from Reddit "
   ]
  },
  {
   "cell_type": "code",
   "execution_count": null,
   "metadata": {},
   "outputs": [],
   "source": [
    "df7 = pd.read_pickle('dataset.pkl')\n",
    "df8 = pd.read_pickle('reddit.pkl')"
   ]
  },
  {
   "cell_type": "code",
   "execution_count": null,
   "metadata": {
    "scrolled": true
   },
   "outputs": [],
   "source": [
    "df8 = df8[['body']]"
   ]
  },
  {
   "cell_type": "code",
   "execution_count": null,
   "metadata": {},
   "outputs": [],
   "source": [
    "df8['emotion'] = 1"
   ]
  },
  {
   "cell_type": "code",
   "execution_count": null,
   "metadata": {},
   "outputs": [],
   "source": [
    "df200 = pd.read_pickle('sad.pkl')"
   ]
  },
  {
   "cell_type": "code",
   "execution_count": null,
   "metadata": {},
   "outputs": [],
   "source": [
    "df200 = df200[['body']]\n",
    "df200['emotion'] = 0"
   ]
  },
  {
   "cell_type": "code",
   "execution_count": null,
   "metadata": {},
   "outputs": [],
   "source": [
    "df200 = df200.rename(columns={'body': 'text'})\n",
    "df8 = df8.rename(columns={'body': 'text'})\n",
    "df7 = df7.rename(columns={'tweet': 'text'})"
   ]
  },
  {
   "cell_type": "code",
   "execution_count": null,
   "metadata": {},
   "outputs": [],
   "source": [
    "df11 = df11[['body']]"
   ]
  },
  {
   "cell_type": "code",
   "execution_count": 112,
   "metadata": {},
   "outputs": [],
   "source": [
    "remove = lambda x: re.sub('\\n', '', x)\n"
   ]
  },
  {
   "cell_type": "code",
   "execution_count": null,
   "metadata": {},
   "outputs": [],
   "source": [
    "df11['body'] = df11.body.map(remove)"
   ]
  },
  {
   "cell_type": "code",
   "execution_count": 106,
   "metadata": {},
   "outputs": [],
   "source": [
    "sad = sad[['body']]\n",
    "sad = sad.rename(columns={'body': 'text'})"
   ]
  },
  {
   "cell_type": "code",
   "execution_count": 108,
   "metadata": {},
   "outputs": [],
   "source": [
    "sad['emotion'] = 0"
   ]
  },
  {
   "cell_type": "code",
   "execution_count": 113,
   "metadata": {},
   "outputs": [],
   "source": [
    "sad['text'] = sad['text'].map(remove)"
   ]
  },
  {
   "cell_type": "code",
   "execution_count": null,
   "metadata": {},
   "outputs": [],
   "source": [
    "df20 = df20.rename({'tweet': 'text'}, axis=1)\n",
    "df20.drop_duplicates(inplace=True)\n",
    "df20.reset_index(inplace=True, drop=True)"
   ]
  },
  {
   "cell_type": "code",
   "execution_count": null,
   "metadata": {},
   "outputs": [],
   "source": [
    "df20.drop('index', axis=1)\n",
    "df20.emotion.value_counts()"
   ]
  },
  {
   "cell_type": "code",
   "execution_count": null,
   "metadata": {},
   "outputs": [],
   "source": [
    "df10.to_pickle('final_df.pkl')"
   ]
  },
  {
   "cell_type": "code",
   "execution_count": null,
   "metadata": {},
   "outputs": [],
   "source": [
    "df10.emotion.value_counts()"
   ]
  },
  {
   "cell_type": "code",
   "execution_count": null,
   "metadata": {},
   "outputs": [],
   "source": [
    "happy = pd.read_pickle('happy.pkl')"
   ]
  },
  {
   "cell_type": "code",
   "execution_count": null,
   "metadata": {},
   "outputs": [],
   "source": [
    "happy2 = happy[['title']]\n",
    "happy2['emotion'] = 0\n",
    "happy2 = happy2.rename({'title': 'text'}, axis=1)"
   ]
  },
  {
   "cell_type": "markdown",
   "metadata": {},
   "source": [
    "#### Merge Final Dataset and Pickle Dataset"
   ]
  },
  {
   "cell_type": "code",
   "execution_count": null,
   "metadata": {},
   "outputs": [],
   "source": [
    "new_df = pd.concat([df7, df8, df200, happy2])"
   ]
  },
  {
   "cell_type": "code",
   "execution_count": null,
   "metadata": {},
   "outputs": [],
   "source": [
    "new_df.drop_duplicates(inplace=True)\n",
    "new_df.reset_index(inplace=True, drop=True)"
   ]
  },
  {
   "cell_type": "code",
   "execution_count": null,
   "metadata": {},
   "outputs": [],
   "source": [
    "new_df['text'] = new_df.text.map(remove)"
   ]
  },
  {
   "cell_type": "code",
   "execution_count": 172,
   "metadata": {},
   "outputs": [
    {
     "data": {
      "text/plain": [
       "0    14229\n",
       "1     4574\n",
       "Name: emotion, dtype: int64"
      ]
     },
     "execution_count": 172,
     "metadata": {},
     "output_type": "execute_result"
    }
   ],
   "source": [
    "new_df.emotion.value_counts()"
   ]
  },
  {
   "cell_type": "code",
   "execution_count": null,
   "metadata": {},
   "outputs": [],
   "source": [
    "new_df.to_pickle('semilast.pkl')"
   ]
  },
  {
   "cell_type": "markdown",
   "metadata": {},
   "source": [
    "### Modeling with Keras "
   ]
  },
  {
   "cell_type": "code",
   "execution_count": 328,
   "metadata": {},
   "outputs": [],
   "source": [
    "new_df = pd.read_pickle('semilast.pkl')"
   ]
  },
  {
   "cell_type": "code",
   "execution_count": 587,
   "metadata": {},
   "outputs": [],
   "source": [
    "X_train, X_test, y_train2, y_test = train_test_split(new_df.text, new_df.emotion, test_size=0.2)"
   ]
  },
  {
   "cell_type": "code",
   "execution_count": 653,
   "metadata": {},
   "outputs": [],
   "source": [
    "seq_len = 100  \n",
    "max_vocab = 1500 \n",
    "\n",
    "tokenizer = Tokenizer(num_words=max_vocab)\n",
    "tokenizer.fit_on_texts(new_df.text)\n",
    "\n",
    "train_text, val_text, y_train, y_val = train_test_split(X_train, y_train2, \n",
    "                                                        test_size=0.2, random_state = 23)\n",
    "\n",
    "train_text = tokenizer.texts_to_sequences(train_text) \n",
    "train_text = pad_sequences(train_text, maxlen=seq_len)\n",
    "\n",
    "val_text = tokenizer.texts_to_sequences(val_text)\n",
    "val_text = pad_sequences(val_text, maxlen=seq_len)"
   ]
  },
  {
   "cell_type": "code",
   "execution_count": 8,
   "metadata": {},
   "outputs": [],
   "source": [
    "import gensim.downloader as api\n",
    "word_vectors = api.load('glove-wiki-gigaword-50');"
   ]
  },
  {
   "cell_type": "code",
   "execution_count": 33,
   "metadata": {},
   "outputs": [],
   "source": [
    "embedding_dim = word_vectors.vector_size"
   ]
  },
  {
   "cell_type": "code",
   "execution_count": 572,
   "metadata": {},
   "outputs": [],
   "source": [
    "word_index = tokenizer.word_index\n",
    "\n",
    "\n",
    "embedding_dim = word_vectors.vector_size \n",
    "\n",
    "embedding_matrix = np.zeros((len(word_index) + 1, embedding_dim))\n",
    "for word, i in word_index.items():\n",
    "    try:\n",
    "        embedding_vector = word_vectors[word.replace(\"'\", \"\")]\n",
    "        embedding_matrix[i] = embedding_vector\n",
    "    except: \n",
    "        pass"
   ]
  },
  {
   "cell_type": "code",
   "execution_count": 646,
   "metadata": {},
   "outputs": [
    {
     "name": "stdout",
     "output_type": "stream",
     "text": [
      "Model: \"model_21\"\n",
      "_________________________________________________________________\n",
      "Layer (type)                 Output Shape              Param #   \n",
      "=================================================================\n",
      "input_23 (InputLayer)        [(None, 100)]             0         \n",
      "_________________________________________________________________\n",
      "embedding_21 (Embedding)     (None, 100, 50)           1498250   \n",
      "_________________________________________________________________\n",
      "bidirectional_21 (Bidirectio (None, 128)               58880     \n",
      "_________________________________________________________________\n",
      "dense_42 (Dense)             (None, 32)                4128      \n",
      "_________________________________________________________________\n",
      "dropout_21 (Dropout)         (None, 32)                0         \n",
      "_________________________________________________________________\n",
      "dense_43 (Dense)             (None, 1)                 33        \n",
      "=================================================================\n",
      "Total params: 1,561,291\n",
      "Trainable params: 63,041\n",
      "Non-trainable params: 1,498,250\n",
      "_________________________________________________________________\n"
     ]
    }
   ],
   "source": [
    "inp = Input(shape=(seq_len,))\n",
    "x = Embedding(len(word_index) + 1,\n",
    "              embedding_dim,\n",
    "              weights=[embedding_matrix], # where we feed the pretrained vecs\n",
    "              trainable=False)(inp) # freeze these parameters in the model\n",
    "\n",
    "x = Bidirectional(LSTM(64, recurrent_dropout=.10))(x)\n",
    "x = Dense(32)(x) # fully connected layer on top of the output of the bi-LSTM\n",
    "x = Dropout(.3)(x)\n",
    "y = Dense(1, activation='sigmoid')(x)\n",
    "\n",
    "NN = Model(inp, y)\n",
    "NN.summary()"
   ]
  },
  {
   "cell_type": "code",
   "execution_count": 222,
   "metadata": {},
   "outputs": [],
   "source": [
    "custom_early_stopping = EarlyStopping(\n",
    "    monitor='val_accuracy', \n",
    "    patience=1, \n",
    "    min_delta=0.001, \n",
    "    mode='max'\n",
    ")"
   ]
  },
  {
   "cell_type": "code",
   "execution_count": 565,
   "metadata": {},
   "outputs": [],
   "source": [
    "early_stopping = EarlyStopping(monitor='val_loss',\n",
    "                              min_delta=0,\n",
    "                              patience=1,\n",
    "                              verbose=0, mode='auto')"
   ]
  },
  {
   "cell_type": "code",
   "execution_count": 660,
   "metadata": {
    "scrolled": true
   },
   "outputs": [
    {
     "name": "stdout",
     "output_type": "stream",
     "text": [
      "Epoch 1/100\n",
      "189/189 [==============================] - 22s 116ms/step - loss: 0.2857 - accuracy: 0.8841 - val_loss: 0.3544 - val_accuracy: 0.8558\n",
      "Epoch 2/100\n",
      "189/189 [==============================] - 24s 128ms/step - loss: 0.2676 - accuracy: 0.8911 - val_loss: 0.3729 - val_accuracy: 0.8568\n",
      "Epoch 3/100\n",
      "189/189 [==============================] - 28s 151ms/step - loss: 0.2589 - accuracy: 0.8950 - val_loss: 0.3700 - val_accuracy: 0.8614\n"
     ]
    }
   ],
   "source": [
    "NN.compile(loss='binary_crossentropy', optimizer='adam', metrics=['accuracy'])\n",
    "history = NN.fit(train_text, y_train, \n",
    "                 validation_data=(val_text, y_val),\n",
    "                 epochs=100, batch_size=64, verbose=1, callbacks=[early_stopping])"
   ]
  },
  {
   "cell_type": "code",
   "execution_count": 643,
   "metadata": {},
   "outputs": [],
   "source": [
    "with open('tokenizer4.pkl', 'wb') as handle4:\n",
    "    pickle.dump(tokenizer, handle4, protocol=pickle.HIGHEST_PROTOCOL)\n"
   ]
  },
  {
   "cell_type": "code",
   "execution_count": 219,
   "metadata": {},
   "outputs": [
    {
     "data": {
      "text/plain": [
       "<tensorflow.python.keras.engine.training.Model at 0x15ce140d0>"
      ]
     },
     "execution_count": 219,
     "metadata": {},
     "output_type": "execute_result"
    }
   ],
   "source": [
    "NN"
   ]
  },
  {
   "cell_type": "code",
   "execution_count": 619,
   "metadata": {},
   "outputs": [],
   "source": [
    "model = NN"
   ]
  },
  {
   "cell_type": "code",
   "execution_count": 620,
   "metadata": {},
   "outputs": [
    {
     "name": "stdout",
     "output_type": "stream",
     "text": [
      "INFO:tensorflow:Assets written to: finalfinal2/assets\n"
     ]
    }
   ],
   "source": [
    "model.save('finalfinal2')"
   ]
  },
  {
   "cell_type": "code",
   "execution_count": 640,
   "metadata": {},
   "outputs": [
    {
     "name": "stdout",
     "output_type": "stream",
     "text": [
      "0.8261100771071523\n"
     ]
    },
    {
     "data": {
      "text/plain": [
       "0.6546990496304118"
      ]
     },
     "execution_count": 640,
     "metadata": {},
     "output_type": "execute_result"
    }
   ],
   "source": [
    "seq = tokenizer.texts_to_sequences(X_test)\n",
    "padded = pad_sequences(seq, maxlen=seq_len)\n",
    "pred = (NN.predict(padded)[:,0] > .6).astype(int)\n",
    "print(accuracy_score(y_test, pred))\n",
    "f1_score(y_test, pred)"
   ]
  },
  {
   "cell_type": "code",
   "execution_count": 625,
   "metadata": {},
   "outputs": [
    {
     "data": {
      "text/plain": [
       "array([[  0,   0,   0,   0,   0,   0,   0,   0,   0,   0,   0,   0,   0,\n",
       "          0,   0,   0,   0,   0,   0,   0,   0,   0,   0,   0,   0,   0,\n",
       "          0,   0,   0,   0,   0,   0,   0,   0,   0,   0,   0,   0,   0,\n",
       "          0,   0,   0,   0,   0,   0,   0,   0,   0,   0,   0,   0,   0,\n",
       "          0,   0,   0,   0,   0,   0,   0,   0,   0,   0,   0,   0,   0,\n",
       "          0,   0,   0,   0,   0,   0,   0,   0,   0,   0,   0,   0,   0,\n",
       "          0,   0,   0,   0,   0,   0,   0,   0,   0,   0,   0,   0, 401,\n",
       "         41,  21, 163,  12,  68,  41, 214, 136,  21]], dtype=int32)"
      ]
     },
     "execution_count": 625,
     "metadata": {},
     "output_type": "execute_result"
    }
   ],
   "source": [
    "padded"
   ]
  },
  {
   "cell_type": "markdown",
   "metadata": {},
   "source": [
    "#### Test model on a few statements"
   ]
  },
  {
   "cell_type": "code",
   "execution_count": 667,
   "metadata": {},
   "outputs": [
    {
     "name": "stdout",
     "output_type": "stream",
     "text": [
      "[[0.49282366]]\n"
     ]
    }
   ],
   "source": [
    "new_complaint = ['I hate the assignment. Do it again.']\n",
    "\n",
    "seq = tokenizer.texts_to_sequences(new_complaint)\n",
    "padded = pad_sequences(seq, maxlen=seq_len)\n",
    "pred = NN.predict(padded)\n",
    "print(pred)"
   ]
  },
  {
   "cell_type": "code",
   "execution_count": null,
   "metadata": {},
   "outputs": [],
   "source": [
    "['I do not like the assignment you turned in. Do it again.']\n",
    "['Please do this assignment again. You can do better than this.']"
   ]
  },
  {
   "cell_type": "code",
   "execution_count": null,
   "metadata": {},
   "outputs": [],
   "source": [
    "plt.plot(history.history['accuracy'])\n",
    "plt.plot(history.history['val_accuracy'])\n",
    "\n",
    "plt.title('Accuracy vs. Training Epoch')\n",
    "plt.xlabel('Epoch')\n",
    "plt.ylabel('Accuracy')\n",
    "plt.legend(['Train','Validation'])"
   ]
  },
  {
   "cell_type": "markdown",
   "metadata": {},
   "source": [
    "### Confusion Matrix"
   ]
  },
  {
   "cell_type": "code",
   "execution_count": 375,
   "metadata": {},
   "outputs": [],
   "source": [
    "from sklearn.metrics import confusion_matrix\n"
   ]
  },
  {
   "cell_type": "code",
   "execution_count": 642,
   "metadata": {},
   "outputs": [
    {
     "data": {
      "text/plain": [
       "Text(112.25000000000007, 0.5, 'actual')"
      ]
     },
     "execution_count": 642,
     "metadata": {},
     "output_type": "execute_result"
    },
    {
     "data": {
      "image/png": "[encoded data removed]",
      "text/plain": [
       "<Figure size 600x400 with 2 Axes>"
      ]
     },
     "metadata": {},
     "output_type": "display_data"
    }
   ],
   "source": [
    "seq = tokenizer.texts_to_sequences(X_test)\n",
    "padded = pad_sequences(seq, maxlen=seq_len)\n",
    "pred = (NN.predict(padded)[:,0] > .6).astype(int)\n",
    "fraud_confusion = confusion_matrix(y_test, pred)\n",
    "plt.figure(dpi=100)\n",
    "sns.heatmap(fraud_confusion, cmap=plt.cm.Reds, annot=True, square=True, fmt='d',\n",
    "    xticklabels=['not', 'angry'],\n",
    "    yticklabels=['not', 'angry']);\n",
    "plt.xlabel('prediction')\n",
    "plt.ylabel('actual')"
   ]
  }
 ],
 "metadata": {
  "kernelspec": {
   "display_name": "Python 3",
   "language": "python",
   "name": "python3"
  },
  "language_info": {
   "codemirror_mode": {
    "name": "ipython",
    "version": 3
   },
   "file_extension": ".py",
   "mimetype": "text/x-python",
   "name": "python",
   "nbconvert_exporter": "python",
   "pygments_lexer": "ipython3",
   "version": "3.7.7"
  }
 },
 "nbformat": 4,
 "nbformat_minor": 4
}
